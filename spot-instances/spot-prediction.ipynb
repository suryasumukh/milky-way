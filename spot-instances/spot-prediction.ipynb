{
 "cells": [
  {
   "cell_type": "code",
   "execution_count": 7,
   "metadata": {},
   "outputs": [],
   "source": [
    "from keras.models import Model\n",
    "from keras.layers import Dense, LSTM, Dropout\n",
    "from keras.layers import TimeDistributed\n",
    "from keras.layers import Input\n",
    "\n",
    "from keras.optimizers import Adam"
   ]
  },
  {
   "cell_type": "code",
   "execution_count": 10,
   "metadata": {},
   "outputs": [],
   "source": [
    "import numpy as np"
   ]
  },
  {
   "cell_type": "code",
   "execution_count": 11,
   "metadata": {},
   "outputs": [],
   "source": [
    "rx_train = np.random.rand(64, 20, 2)\n",
    "ry_train = np.random.rand(64)"
   ]
  },
  {
   "cell_type": "code",
   "execution_count": 13,
   "metadata": {},
   "outputs": [],
   "source": [
    "_input = Input(shape=(20,2))\n",
    "affine = TimeDistributed(Dense(1, activation='linear'))(_input)\n",
    "lstm = LSTM(200, activation='relu', recurrent_dropout=0.2)(affine)\n",
    "dropped = Dropout(rate=0.2)(lstm)\n",
    "y_hat = Dense(1)(dropped)\n",
    "\n",
    "model = Model(inputs=[_input], outputs=[y_hat])\n",
    "\n",
    "learning_rate = 0.0005\n",
    "optimizer = Adam(lr=learning_rate)\n",
    "\n",
    "model.compile(optimizer=optimizer, loss='mean_squared_error')"
   ]
  },
  {
   "cell_type": "code",
   "execution_count": 14,
   "metadata": {},
   "outputs": [
    {
     "name": "stdout",
     "output_type": "stream",
     "text": [
      "_________________________________________________________________\n",
      "Layer (type)                 Output Shape              Param #   \n",
      "=================================================================\n",
      "input_5 (InputLayer)         (None, 20, 2)             0         \n",
      "_________________________________________________________________\n",
      "time_distributed_5 (TimeDist (None, 20, 1)             3         \n",
      "_________________________________________________________________\n",
      "lstm_5 (LSTM)                (None, 200)               161600    \n",
      "_________________________________________________________________\n",
      "dropout_4 (Dropout)          (None, 200)               0         \n",
      "_________________________________________________________________\n",
      "dense_10 (Dense)             (None, 1)                 201       \n",
      "=================================================================\n",
      "Total params: 161,804\n",
      "Trainable params: 161,804\n",
      "Non-trainable params: 0\n",
      "_________________________________________________________________\n"
     ]
    }
   ],
   "source": [
    "model.summary()"
   ]
  },
  {
   "cell_type": "code",
   "execution_count": 15,
   "metadata": {},
   "outputs": [
    {
     "name": "stdout",
     "output_type": "stream",
     "text": [
      "Epoch 1/10\n",
      "64/64 [==============================] - 1s 17ms/step - loss: 0.3334\n",
      "Epoch 2/10\n",
      "64/64 [==============================] - 0s 1ms/step - loss: 0.3169\n",
      "Epoch 3/10\n",
      "64/64 [==============================] - 0s 970us/step - loss: 0.3026\n",
      "Epoch 4/10\n",
      "64/64 [==============================] - 0s 988us/step - loss: 0.2847\n",
      "Epoch 5/10\n",
      "64/64 [==============================] - 0s 1ms/step - loss: 0.2671\n",
      "Epoch 6/10\n",
      "64/64 [==============================] - 0s 918us/step - loss: 0.2449\n",
      "Epoch 7/10\n",
      "64/64 [==============================] - 0s 1ms/step - loss: 0.2192\n",
      "Epoch 8/10\n",
      "64/64 [==============================] - 0s 950us/step - loss: 0.1825\n",
      "Epoch 9/10\n",
      "64/64 [==============================] - 0s 1ms/step - loss: 0.1435\n",
      "Epoch 10/10\n",
      "64/64 [==============================] - 0s 1ms/step - loss: 0.1061\n"
     ]
    },
    {
     "data": {
      "text/plain": [
       "<keras.callbacks.History at 0x1058f3e10>"
      ]
     },
     "execution_count": 15,
     "metadata": {},
     "output_type": "execute_result"
    }
   ],
   "source": [
    "model.fit(rx_train, ry_train, epochs=10, batch_size=32)"
   ]
  },
  {
   "cell_type": "code",
   "execution_count": null,
   "metadata": {},
   "outputs": [],
   "source": []
  }
 ],
 "metadata": {
  "kernelspec": {
   "display_name": "Python 3",
   "language": "python",
   "name": "python3"
  },
  "language_info": {
   "codemirror_mode": {
    "name": "ipython",
    "version": 3
   },
   "file_extension": ".py",
   "mimetype": "text/x-python",
   "name": "python",
   "nbconvert_exporter": "python",
   "pygments_lexer": "ipython3",
   "version": "3.7.2"
  }
 },
 "nbformat": 4,
 "nbformat_minor": 2
}
